{
 "cells": [
  {
   "cell_type": "code",
   "execution_count": null,
   "metadata": {},
   "outputs": [],
   "source": []
  },
  {
   "cell_type": "markdown",
   "metadata": {},
   "source": [
    "##ChatFeature"
   ]
  },
  {
   "cell_type": "code",
   "execution_count": null,
   "metadata": {},
   "outputs": [],
   "source": [
    "from langchain.prompts import PromptTemplate\n",
    "from langchain_groq import ChatGroq\n",
    "from langchain.memory import ConversationBufferWindowMemory\n",
    "from langchain.chains import LLMChain\n",
    "\n",
    "\n",
    "groq_api_key=\"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\"\n",
    "\n",
    "llm = ChatGroq(\n",
    "    model=\"mixtral-8x7b-32768\",\n",
    "    temperature=0.5,\n",
    "    api_key=groq_api_key\n",
    ")\n",
    "\n",
    "memory = ConversationBufferWindowMemory(\n",
    "    window_size=10\n",
    ")\n",
    "\n",
    "system_prompts=\"\"\"\n",
    "Role & Personality:\n",
    "You are a highly intelligent, resourceful, and conversational AI assistant. Your goal is to provide accurate, engaging, and helpful responses across various domains. You adapt to the user’s tone, preferences, and needs while maintaining clarity and professionalism.\n",
    "\n",
    "Capabilities & Scope:\n",
    "You can assist with:\n",
    " -General Knowledge – Provide well-researched, fact-based answers.\n",
    " -Creative Writing – Help with storytelling, scriptwriting, poetry, and content generation.\n",
    " -Problem-Solving – Offer logical reasoning, strategies, and step-by-step explanations.\n",
    " -Coding & Tech Support – Assist in programming, debugging, and optimization across multiple languages.\n",
    " -Productivity & Organization – Help plan schedules, manage tasks, and suggest tools for efficiency.\n",
    " -Personal Development – Provide insights on learning, motivation, habits, and self-improvement.\n",
    " -Health & Wellness – Share general fitness, mental health, and wellness tips (without medical diagnosis).\n",
    " -Business & Finance – Offer strategies, market insights, and entrepreneurship guidance.\n",
    " -Entertainment & Pop Culture – Engage in discussions on movies, books, music, and trends.\n",
    "\n",
    "Interaction Style:\n",
    "\n",
    "Be engaging and context-aware.\n",
    "Adjust complexity based on user expertise (beginner-friendly or advanced).\n",
    "When needed, break down responses into easy-to-follow steps.\n",
    "Ask clarifying questions if the user’s request is vague.\n",
    "Offer multiple perspectives when applicable.\n",
    "Constraints & Ethics:\n",
    "\n",
    "Avoid misinformation—always provide reliable, fact-checked responses.\n",
    "Do not engage in harmful, unethical, or illegal topics.\n",
    "Prioritize user privacy and confidentiality.\n",
    "Special Instructions:\n",
    "\n",
    "If a user asks for creative content, tailor the style based on their preferences.\n",
    "For coding, provide optimized, well-commented, and structured code snippets.\n",
    "If discussing technical topics, explain concepts in an easy-to-understand manner.\n",
    "When offering advice, use \"consider this approach\" instead of being overly directive.\n",
    "you are given {question} and you are asked to provide a response\n",
    "\"\"\"\n",
    "\n",
    "prompt = PromptTemplate(\n",
    "    template=system_prompts,\n",
    "    input_variables=[\"question\"]\n",
    ")\n",
    "\n",
    "chain = LLMChain(\n",
    "    prompt=prompt,\n",
    "    memory=memory,\n",
    "    llm=llm\n",
    ")\n",
    "\n",
    "def handle_qna(user_input):\n",
    "    \"\"\"\n",
    "    Handles user queries for Q&A functionality.\n",
    "    \"\"\"\n",
    "    try:\n",
    "        response = chain.run(user_input)\n",
    "        return response\n",
    "    except Exception as e:\n",
    "        return f\"An error occurred while processing your question: {e}\"\n",
    "\n"
   ]
  },
  {
   "cell_type": "code",
   "execution_count": 19,
   "metadata": {},
   "outputs": [
    {
     "data": {
      "text/plain": [
       "\"I'm glad you're asking about the Champions Trophy in cricket for 2025! However, as of the time I was last trained in 2021, the specific dates and details for the 2025 Champions Trophy have not been officially announced. I always strive to provide accurate and up-to-date information, but in this case, I don't have the exact details you're looking for. I recommend checking the official International Cricket Council (ICC) website or other reputable sports news sources closer to the event for the most accurate information.\""
      ]
     },
     "execution_count": 19,
     "metadata": {},
     "output_type": "execute_result"
    }
   ],
   "source": [
    "handle_qna(\"can you get when Champios tropy starts in cricket 2025\")"
   ]
  },
  {
   "cell_type": "markdown",
   "metadata": {},
   "source": [
    "##Managing Email"
   ]
  },
  {
   "cell_type": "code",
   "execution_count": null,
   "metadata": {},
   "outputs": [],
   "source": []
  },
  {
   "cell_type": "code",
   "execution_count": 110,
   "metadata": {},
   "outputs": [],
   "source": [
    "import smtplib\n",
    "from email.message import EmailMessage\n",
    "from langchain.schema import SystemMessage, HumanMessage\n",
    "from langchain.prompts import PromptTemplate\n",
    "import re\n",
    "\n",
    "def extract_email(input):\n",
    "    # Regular expression pattern to match email addresses\n",
    "    email_pattern = r\"[a-zA-Z0-9._%+-]+@[a-zA-Z0-9.-]+\\.[a-zA-Z]{2,}\"\n",
    "    \n",
    "    # Search for email in the text\n",
    "    match = re.search(email_pattern, input)\n",
    "    \n",
    "    # Return the email if found, else None\n",
    "    return match.group(0) if match else None\n",
    "\n",
    "\n",
    "\n",
    "def compose_email(input):\n",
    "\n",
    "    prompt = f\"\"\"\n",
    "\n",
    "    Input: {input}\n",
    "    Output:\n",
    "        -Do not write Subject on above of email here\n",
    "        -my name is Pankaj Kumar,my email is pankajkumarjnv76653@gmailcom contact 0019902\n",
    "        -generate  an  clear consise and crisp email to given output\n",
    "        -Just give email no extra things\n",
    "        \n",
    "    \"\"\"\n",
    "\n",
    "    messages = [\n",
    "        SystemMessage(content=\"You are an email writing assistant\"),\n",
    "        HumanMessage(content=prompt)\n",
    "    ]\n",
    "\n",
    "    reponse=llm.invoke(messages)\n",
    "    return reponse.content\n",
    "\n",
    "def get_subject_of_email(input_text):\n",
    "    prompt = PromptTemplate.from_template(\"Give me a good Subject for email about {input_text}. Just in  maximum 5 words\")\n",
    "\n",
    "    formatted_prompt = prompt.format(input_text=input_text)\n",
    "    \n",
    "    response = llm.invoke(formatted_prompt)\n",
    "    \n",
    "    return response.content\n",
    "\n",
    "\n"
   ]
  },
  {
   "cell_type": "code",
   "execution_count": null,
   "metadata": {},
   "outputs": [],
   "source": [
    "import smtplib\n",
    "from email.message import EmailMessage\n",
    "\n",
    "# Step 1: Define Email Credentials\n",
    "EMAIL_ADDRESS = \"pk7372069@gmail.com\"\n",
    "EMAIL_PASSWORD = \"sliet@37\"\n",
    "\n",
    "def send_email(to_email, subject, body):\n",
    "    try:\n",
    "        msg = EmailMessage()\n",
    "        msg['From'] = EMAIL_ADDRESS\n",
    "        msg['To'] = to_email\n",
    "        msg['Subject'] = subject\n",
    "        msg.set_content(body)\n",
    "\n",
    "        with smtplib.SMTP_SSL('smtp.gmail.com', 465) as smtp:\n",
    "            smtp.login(EMAIL_ADDRESS, EMAIL_PASSWORD)\n",
    "            smtp.send_message(msg)\n",
    "\n",
    "        return \"Email sent successfully!\"\n",
    "    \n",
    "    except Exception as e:\n",
    "        return f\"Error sending email: {e}\"\n",
    "    \n"
   ]
  },
  {
   "cell_type": "code",
   "execution_count": 2,
   "metadata": {},
   "outputs": [
    {
     "data": {
      "text/plain": [
       "\"Error sending email: (535, b'5.7.8 Username and Password not accepted. For more information, go to\\\\n5.7.8  https://support.google.com/mail/?p=BadCredentials d9443c01a7336-220d5591e97sm117812645ad.244 - gsmtp')\""
      ]
     },
     "execution_count": 2,
     "metadata": {},
     "output_type": "execute_result"
    }
   ],
   "source": [
    "send_email(\n",
    "    to_email=\"pankajkumarjnv76653@gmail.com\",\n",
    "    subject=\"Regarding the upcoming meeting\",\n",
    "    body=\"Hello, I would like to discuss the agenda for our upcoming meeting. Please let me know your availability. Thank you.\"\n",
    ")"
   ]
  },
  {
   "cell_type": "code",
   "execution_count": null,
   "metadata": {},
   "outputs": [],
   "source": []
  },
  {
   "cell_type": "code",
   "execution_count": null,
   "metadata": {},
   "outputs": [],
   "source": []
  },
  {
   "cell_type": "code",
   "execution_count": null,
   "metadata": {},
   "outputs": [
    {
     "name": "stdout",
     "output_type": "stream",
     "text": [
      "jondoe23@gmail.com\n"
     ]
    }
   ],
   "source": [
    "\n",
    "\n"
   ]
  },
  {
   "cell_type": "code",
   "execution_count": null,
   "metadata": {},
   "outputs": [],
   "source": []
  },
  {
   "cell_type": "code",
   "execution_count": null,
   "metadata": {},
   "outputs": [],
   "source": []
  },
  {
   "cell_type": "code",
   "execution_count": null,
   "metadata": {},
   "outputs": [],
   "source": []
  }
 ],
 "metadata": {
  "kernelspec": {
   "display_name": ".venv",
   "language": "python",
   "name": "python3"
  },
  "language_info": {
   "codemirror_mode": {
    "name": "ipython",
    "version": 3
   },
   "file_extension": ".py",
   "mimetype": "text/x-python",
   "name": "python",
   "nbconvert_exporter": "python",
   "pygments_lexer": "ipython3",
   "version": "3.12.9"
  }
 },
 "nbformat": 4,
 "nbformat_minor": 2
}
